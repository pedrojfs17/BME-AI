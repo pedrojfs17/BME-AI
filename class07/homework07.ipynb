{
  "nbformat": 4,
  "nbformat_minor": 0,
  "metadata": {
    "colab": {
      "provenance": []
    },
    "kernelspec": {
      "name": "python3",
      "display_name": "Python 3"
    },
    "language_info": {
      "name": "python"
    }
  },
  "cells": [
    {
      "cell_type": "markdown",
      "source": [
        "# Homework 07\n",
        "\n",
        "Predict the next letter.\n",
        "\n",
        "1. Read the file HP1_words.txt. you can use\n",
        "```python\n",
        "f = open(\"HP1_words.txt\", mode=\"r\", encoding=\"utf-8\")\n",
        "txt = f.read()\n",
        "f.close()\n",
        "```\n",
        "to read the content into the string txt. The file contains only the words in lowercase lettersmof the first Harry Potter book.\n",
        "2. Convert the text to one hot encoding. `ord(txt[i])` gives you the ascii code of the specific characters. There are 27 different characters in the file: letters from a-z and the space. `ord(txt[i]) - ord(\"a\")` gives you a code from 0 to 25 for each letter, you have to set space to 26\n",
        "Create an array which is as long as the string txt and is 27 wide. Put 1 only at the code of the character in each row of the array.\n",
        "3. Create a train and test dataset. Note that you have to modify the create_dataset function used in course because now you need all 27 columns.\n",
        "4. First use only 1% of the dataset for training\n",
        "5. Create an LSTM-Dense network and train with the data.\n",
        "6. Experiment with look_back and number of LSTM cells and even layers and try to reach more than 90% accuracy on this training set. Show with the rest of the data that you have overfitted the data.\n",
        "7. Now use 10% of the data (training may take 10-20 minutes) and fit the data so that you achieve more than 40% on the test data"
      ],
      "metadata": {
        "id": "GOz6nXr0NbNN"
      }
    },
    {
      "cell_type": "code",
      "execution_count": 44,
      "metadata": {
        "id": "3FcMub5vNPns"
      },
      "outputs": [],
      "source": [
        "import numpy as np\n",
        "import pandas as pd\n",
        "from keras.models import Sequential\n",
        "from keras.layers import Dense\n",
        "from keras.layers import LSTM\n",
        "from sklearn.preprocessing import MinMaxScaler\n",
        "from sklearn import metrics\n",
        "from keras.utils.np_utils import to_categorical\n",
        "from sklearn.metrics import accuracy_score\n",
        "import matplotlib.pyplot as plt"
      ]
    },
    {
      "cell_type": "markdown",
      "source": [
        "## Helper Functions"
      ],
      "metadata": {
        "id": "rlncnmtoEkFP"
      }
    },
    {
      "cell_type": "code",
      "source": [
        "def create_dataset(dataset, look_back=1):\n",
        "    dataX, dataY = [], []\n",
        "    for i in range(len(dataset) - look_back - 1):\n",
        "        a = dataset[i:(i+look_back)]\n",
        "        dataX.append(a)\n",
        "        dataY.append(dataset[i + look_back, :])\n",
        "    return np.array(dataX), np.array(dataY)"
      ],
      "metadata": {
        "id": "hHHVm1YyOEip"
      },
      "execution_count": 5,
      "outputs": []
    },
    {
      "cell_type": "code",
      "source": [
        "# https://www.kaggle.com/danbrice/keras-plot-history-full-report-and-grid-search\n",
        "def plot_history(history):\n",
        "    loss_list = [s for s in history.history.keys() if 'loss' in s and 'val' not in s]\n",
        "    val_loss_list = [s for s in history.history.keys() if 'loss' in s and 'val' in s]\n",
        "    acc_list = [s for s in history.history.keys() if 'acc' in s and 'val' not in s]\n",
        "    val_acc_list = [s for s in history.history.keys() if 'acc' in s and 'val' in s]\n",
        "    \n",
        "    if len(loss_list) == 0:\n",
        "        print('Loss is missing in history')\n",
        "        return \n",
        "    \n",
        "    ## As loss always exists\n",
        "    epochs = range(1,len(history.history[loss_list[0]]) + 1)\n",
        "    ## Loss\n",
        "    plt.figure(1)\n",
        "    for l in loss_list:\n",
        "        plt.plot(epochs, history.history[l], 'b', label='Training loss (' + str(str(format(history.history[l][-1],'.5f'))+')'))\n",
        "    for l in val_loss_list:\n",
        "        plt.plot(epochs, history.history[l], 'g', label='Validation loss (' + str(str(format(history.history[l][-1],'.5f'))+')'))\n",
        "    \n",
        "    plt.title('Loss')\n",
        "    plt.xlabel('Epochs')\n",
        "    plt.ylabel('Loss')\n",
        "    plt.legend()\n",
        "    \n",
        "    ## Accuracy\n",
        "    plt.figure(2)\n",
        "    for l in acc_list:\n",
        "        plt.plot(epochs, history.history[l], 'b', label='Training accuracy (' + str(format(history.history[l][-1],'.5f'))+')')\n",
        "    for l in val_acc_list:    \n",
        "        plt.plot(epochs, history.history[l], 'g', label='Validation accuracy (' + str(format(history.history[l][-1],'.5f'))+')')\n",
        "\n",
        "    plt.title('Accuracy')\n",
        "    plt.xlabel('Epochs')\n",
        "    plt.ylabel('Accuracy')\n",
        "    plt.legend()\n",
        "    plt.show()"
      ],
      "metadata": {
        "id": "tO-zW6CKPa4Y"
      },
      "execution_count": 6,
      "outputs": []
    },
    {
      "cell_type": "markdown",
      "source": [
        "## Homework"
      ],
      "metadata": {
        "id": "6pTU4mauErVz"
      }
    },
    {
      "cell_type": "code",
      "source": [
        "f = open(\"HP1_words.txt\", mode=\"r\", encoding=\"utf-8\")\n",
        "txt = f.read()\n",
        "f.close()\n",
        "\n",
        "txt[:250]"
      ],
      "metadata": {
        "colab": {
          "base_uri": "https://localhost:8080/",
          "height": 54
        },
        "id": "-ZDmAaVQNnf_",
        "outputId": "d6bd5a11-0888-41ae-c7bb-03ec4857cb27"
      },
      "execution_count": 2,
      "outputs": [
        {
          "output_type": "execute_result",
          "data": {
            "text/plain": [
              "'the boy who lived mr and mrs dursley of number four privet drive were proud to say that they were perfectly normal thank you very much they were the last people youd expect to be involved in anything strange or mysterious because they just didnt hold'"
            ],
            "application/vnd.google.colaboratory.intrinsic+json": {
              "type": "string"
            }
          },
          "metadata": {},
          "execution_count": 2
        }
      ]
    },
    {
      "cell_type": "code",
      "source": [
        "text_length = len(txt)\n",
        "\n",
        "encoded = np.zeros((text_length, 27), dtype=int)\n",
        "\n",
        "for i in range(text_length):\n",
        "  code = 26 if txt[i] == ' ' else ord(txt[i]) - ord(\"a\")\n",
        "  encoded[i][code] = 1\n",
        "\n",
        "encoded.shape"
      ],
      "metadata": {
        "colab": {
          "base_uri": "https://localhost:8080/"
        },
        "id": "voMATc4CN1XM",
        "outputId": "0d01860c-5c2b-467d-e6d4-5e420c89a5a2"
      },
      "execution_count": 74,
      "outputs": [
        {
          "output_type": "execute_result",
          "data": {
            "text/plain": [
              "(414125, 27)"
            ]
          },
          "metadata": {},
          "execution_count": 74
        }
      ]
    },
    {
      "cell_type": "markdown",
      "source": [
        "### Using 1% of the dataset"
      ],
      "metadata": {
        "id": "A49U0QjPOjmD"
      }
    },
    {
      "cell_type": "code",
      "source": [
        "look_back = 16\n",
        "\n",
        "train_size = round(len(encoded) * 0.01)\n",
        "train, test = encoded[0:train_size,:], encoded[train_size:len(encoded),:]\n",
        "trainX, trainY = create_dataset(train, look_back)\n",
        "testX, testY = create_dataset(test, look_back)\n",
        "\n",
        "print(trainX.shape, trainY.shape)"
      ],
      "metadata": {
        "colab": {
          "base_uri": "https://localhost:8080/"
        },
        "id": "KSzKZAsDOfG0",
        "outputId": "ab5f5f0e-c6a3-4556-aa14-b9d7df3257e8"
      },
      "execution_count": 40,
      "outputs": [
        {
          "output_type": "stream",
          "name": "stdout",
          "text": [
            "(4124, 16, 27) (4124, 27)\n"
          ]
        }
      ]
    },
    {
      "cell_type": "code",
      "source": [
        "model = Sequential()\n",
        "model.add(LSTM(120, input_shape=(look_back, 27)))\n",
        "model.add(Dense(60))\n",
        "model.add(Dense(27))\n",
        "model.compile(loss='binary_crossentropy', metrics=['accuracy'])\n",
        "model.summary()"
      ],
      "metadata": {
        "colab": {
          "base_uri": "https://localhost:8080/"
        },
        "id": "vxvHukivOug1",
        "outputId": "dedd07c8-0bf5-4bd7-938a-dc9ef44bdf4c"
      },
      "execution_count": 41,
      "outputs": [
        {
          "output_type": "stream",
          "name": "stdout",
          "text": [
            "Model: \"sequential_15\"\n",
            "_________________________________________________________________\n",
            " Layer (type)                Output Shape              Param #   \n",
            "=================================================================\n",
            " lstm_23 (LSTM)              (None, 120)               71040     \n",
            "                                                                 \n",
            " dense_21 (Dense)            (None, 60)                7260      \n",
            "                                                                 \n",
            " dense_22 (Dense)            (None, 27)                1647      \n",
            "                                                                 \n",
            "=================================================================\n",
            "Total params: 79,947\n",
            "Trainable params: 79,947\n",
            "Non-trainable params: 0\n",
            "_________________________________________________________________\n"
          ]
        }
      ]
    },
    {
      "cell_type": "code",
      "source": [
        "history = model.fit(trainX, trainY, batch_size=40, epochs=120, verbose=1)\n",
        "\n",
        "plot_history(history)"
      ],
      "metadata": {
        "colab": {
          "base_uri": "https://localhost:8080/",
          "height": 1000
        },
        "id": "3Kf-gbaPPPQO",
        "outputId": "a4a48714-5d68-4ebc-ccfb-7e22e29b9e53"
      },
      "execution_count": 42,
      "outputs": [
        {
          "output_type": "stream",
          "name": "stdout",
          "text": [
            "Epoch 1/120\n",
            "104/104 [==============================] - 7s 28ms/step - loss: 0.1795 - accuracy: 0.1857\n",
            "Epoch 2/120\n",
            "104/104 [==============================] - 2s 23ms/step - loss: 0.1565 - accuracy: 0.2335\n",
            "Epoch 3/120\n",
            "104/104 [==============================] - 3s 25ms/step - loss: 0.1501 - accuracy: 0.2638\n",
            "Epoch 4/120\n",
            "104/104 [==============================] - 3s 27ms/step - loss: 0.1500 - accuracy: 0.2769\n",
            "Epoch 5/120\n",
            "104/104 [==============================] - 3s 25ms/step - loss: 0.1453 - accuracy: 0.3009\n",
            "Epoch 6/120\n",
            "104/104 [==============================] - 3s 26ms/step - loss: 0.1441 - accuracy: 0.3080\n",
            "Epoch 7/120\n",
            "104/104 [==============================] - 3s 24ms/step - loss: 0.1412 - accuracy: 0.3196\n",
            "Epoch 8/120\n",
            "104/104 [==============================] - 2s 23ms/step - loss: 0.1398 - accuracy: 0.3252\n",
            "Epoch 9/120\n",
            "104/104 [==============================] - 3s 25ms/step - loss: 0.1399 - accuracy: 0.3332\n",
            "Epoch 10/120\n",
            "104/104 [==============================] - 3s 25ms/step - loss: 0.1367 - accuracy: 0.3373\n",
            "Epoch 11/120\n",
            "104/104 [==============================] - 3s 24ms/step - loss: 0.1359 - accuracy: 0.3419\n",
            "Epoch 12/120\n",
            "104/104 [==============================] - 2s 23ms/step - loss: 0.1375 - accuracy: 0.3451\n",
            "Epoch 13/120\n",
            "104/104 [==============================] - 4s 38ms/step - loss: 0.1377 - accuracy: 0.3475\n",
            "Epoch 14/120\n",
            "104/104 [==============================] - 2s 23ms/step - loss: 0.1377 - accuracy: 0.3642\n",
            "Epoch 15/120\n",
            "104/104 [==============================] - 2s 22ms/step - loss: 0.1373 - accuracy: 0.3620\n",
            "Epoch 16/120\n",
            "104/104 [==============================] - 3s 26ms/step - loss: 0.1357 - accuracy: 0.3778\n",
            "Epoch 17/120\n",
            "104/104 [==============================] - 3s 25ms/step - loss: 0.1359 - accuracy: 0.3790\n",
            "Epoch 18/120\n",
            "104/104 [==============================] - 3s 26ms/step - loss: 0.1356 - accuracy: 0.3754\n",
            "Epoch 19/120\n",
            "104/104 [==============================] - 2s 24ms/step - loss: 0.1337 - accuracy: 0.3814\n",
            "Epoch 20/120\n",
            "104/104 [==============================] - 3s 24ms/step - loss: 0.1332 - accuracy: 0.3889\n",
            "Epoch 21/120\n",
            "104/104 [==============================] - 3s 25ms/step - loss: 0.1324 - accuracy: 0.3863\n",
            "Epoch 22/120\n",
            "104/104 [==============================] - 3s 27ms/step - loss: 0.1332 - accuracy: 0.3982\n",
            "Epoch 23/120\n",
            "104/104 [==============================] - 2s 23ms/step - loss: 0.1312 - accuracy: 0.4066\n",
            "Epoch 24/120\n",
            "104/104 [==============================] - 3s 26ms/step - loss: 0.1309 - accuracy: 0.4047\n",
            "Epoch 25/120\n",
            "104/104 [==============================] - 2s 23ms/step - loss: 0.1286 - accuracy: 0.4006\n",
            "Epoch 26/120\n",
            "104/104 [==============================] - 2s 22ms/step - loss: 0.1286 - accuracy: 0.4193\n",
            "Epoch 27/120\n",
            "104/104 [==============================] - 2s 23ms/step - loss: 0.1264 - accuracy: 0.4243\n",
            "Epoch 28/120\n",
            "104/104 [==============================] - 3s 26ms/step - loss: 0.1260 - accuracy: 0.4343\n",
            "Epoch 29/120\n",
            "104/104 [==============================] - 2s 23ms/step - loss: 0.1255 - accuracy: 0.4433\n",
            "Epoch 30/120\n",
            "104/104 [==============================] - 3s 26ms/step - loss: 0.1238 - accuracy: 0.4474\n",
            "Epoch 31/120\n",
            "104/104 [==============================] - 3s 24ms/step - loss: 0.1248 - accuracy: 0.4539\n",
            "Epoch 32/120\n",
            "104/104 [==============================] - 2s 24ms/step - loss: 0.1229 - accuracy: 0.4668\n",
            "Epoch 33/120\n",
            "104/104 [==============================] - 3s 24ms/step - loss: 0.1232 - accuracy: 0.4733\n",
            "Epoch 34/120\n",
            "104/104 [==============================] - 3s 24ms/step - loss: 0.1206 - accuracy: 0.4774\n",
            "Epoch 35/120\n",
            "104/104 [==============================] - 2s 24ms/step - loss: 0.1205 - accuracy: 0.4901\n",
            "Epoch 36/120\n",
            "104/104 [==============================] - 3s 32ms/step - loss: 0.1177 - accuracy: 0.4952\n",
            "Epoch 37/120\n",
            "104/104 [==============================] - 3s 25ms/step - loss: 0.1182 - accuracy: 0.5061\n",
            "Epoch 38/120\n",
            "104/104 [==============================] - 2s 23ms/step - loss: 0.1159 - accuracy: 0.5158\n",
            "Epoch 39/120\n",
            "104/104 [==============================] - 2s 22ms/step - loss: 0.1157 - accuracy: 0.5143\n",
            "Epoch 40/120\n",
            "104/104 [==============================] - 2s 22ms/step - loss: 0.1148 - accuracy: 0.5281\n",
            "Epoch 41/120\n",
            "104/104 [==============================] - 3s 24ms/step - loss: 0.1131 - accuracy: 0.5388\n",
            "Epoch 42/120\n",
            "104/104 [==============================] - 3s 26ms/step - loss: 0.1131 - accuracy: 0.5436\n",
            "Epoch 43/120\n",
            "104/104 [==============================] - 3s 25ms/step - loss: 0.1095 - accuracy: 0.5509\n",
            "Epoch 44/120\n",
            "104/104 [==============================] - 2s 23ms/step - loss: 0.1101 - accuracy: 0.5597\n",
            "Epoch 45/120\n",
            "104/104 [==============================] - 2s 23ms/step - loss: 0.1090 - accuracy: 0.5703\n",
            "Epoch 46/120\n",
            "104/104 [==============================] - 3s 24ms/step - loss: 0.1076 - accuracy: 0.5868\n",
            "Epoch 47/120\n",
            "104/104 [==============================] - 2s 24ms/step - loss: 0.1057 - accuracy: 0.6006\n",
            "Epoch 48/120\n",
            "104/104 [==============================] - 2s 22ms/step - loss: 0.1037 - accuracy: 0.5997\n",
            "Epoch 49/120\n",
            "104/104 [==============================] - 3s 24ms/step - loss: 0.1028 - accuracy: 0.6154\n",
            "Epoch 50/120\n",
            "104/104 [==============================] - 3s 25ms/step - loss: 0.1013 - accuracy: 0.6334\n",
            "Epoch 51/120\n",
            "104/104 [==============================] - 3s 27ms/step - loss: 0.1002 - accuracy: 0.6489\n",
            "Epoch 52/120\n",
            "104/104 [==============================] - 3s 25ms/step - loss: 0.0992 - accuracy: 0.6637\n",
            "Epoch 53/120\n",
            "104/104 [==============================] - 3s 26ms/step - loss: 0.0976 - accuracy: 0.6634\n",
            "Epoch 54/120\n",
            "104/104 [==============================] - 2s 23ms/step - loss: 0.0953 - accuracy: 0.6775\n",
            "Epoch 55/120\n",
            "104/104 [==============================] - 3s 24ms/step - loss: 0.0925 - accuracy: 0.7051\n",
            "Epoch 56/120\n",
            "104/104 [==============================] - 2s 24ms/step - loss: 0.0921 - accuracy: 0.7015\n",
            "Epoch 57/120\n",
            "104/104 [==============================] - 2s 23ms/step - loss: 0.0903 - accuracy: 0.7156\n",
            "Epoch 58/120\n",
            "104/104 [==============================] - 3s 25ms/step - loss: 0.0907 - accuracy: 0.7255\n",
            "Epoch 59/120\n",
            "104/104 [==============================] - 3s 25ms/step - loss: 0.0900 - accuracy: 0.7226\n",
            "Epoch 60/120\n",
            "104/104 [==============================] - 4s 38ms/step - loss: 0.0918 - accuracy: 0.7388\n",
            "Epoch 61/120\n",
            "104/104 [==============================] - 2s 23ms/step - loss: 0.0891 - accuracy: 0.7490\n",
            "Epoch 62/120\n",
            "104/104 [==============================] - 3s 25ms/step - loss: 0.0869 - accuracy: 0.7590\n",
            "Epoch 63/120\n",
            "104/104 [==============================] - 3s 25ms/step - loss: 0.0872 - accuracy: 0.7607\n",
            "Epoch 64/120\n",
            "104/104 [==============================] - 3s 25ms/step - loss: 0.0840 - accuracy: 0.7716\n",
            "Epoch 65/120\n",
            "104/104 [==============================] - 3s 27ms/step - loss: 0.0838 - accuracy: 0.7808\n",
            "Epoch 66/120\n",
            "104/104 [==============================] - 2s 24ms/step - loss: 0.0841 - accuracy: 0.7835\n",
            "Epoch 67/120\n",
            "104/104 [==============================] - 3s 25ms/step - loss: 0.0857 - accuracy: 0.7975\n",
            "Epoch 68/120\n",
            "104/104 [==============================] - 3s 33ms/step - loss: 0.0797 - accuracy: 0.8138\n",
            "Epoch 69/120\n",
            "104/104 [==============================] - 3s 25ms/step - loss: 0.0783 - accuracy: 0.8164\n",
            "Epoch 70/120\n",
            "104/104 [==============================] - 2s 23ms/step - loss: 0.0765 - accuracy: 0.8320\n",
            "Epoch 71/120\n",
            "104/104 [==============================] - 3s 25ms/step - loss: 0.0752 - accuracy: 0.8392\n",
            "Epoch 72/120\n",
            "104/104 [==============================] - 3s 24ms/step - loss: 0.0743 - accuracy: 0.8465\n",
            "Epoch 73/120\n",
            "104/104 [==============================] - 2s 23ms/step - loss: 0.0720 - accuracy: 0.8501\n",
            "Epoch 74/120\n",
            "104/104 [==============================] - 3s 24ms/step - loss: 0.0732 - accuracy: 0.8581\n",
            "Epoch 75/120\n",
            "104/104 [==============================] - 3s 24ms/step - loss: 0.0693 - accuracy: 0.8676\n",
            "Epoch 76/120\n",
            "104/104 [==============================] - 2s 23ms/step - loss: 0.0718 - accuracy: 0.8598\n",
            "Epoch 77/120\n",
            "104/104 [==============================] - 3s 26ms/step - loss: 0.0696 - accuracy: 0.8739\n",
            "Epoch 78/120\n",
            "104/104 [==============================] - 2s 23ms/step - loss: 0.0691 - accuracy: 0.8761\n",
            "Epoch 79/120\n",
            "104/104 [==============================] - 3s 27ms/step - loss: 0.0661 - accuracy: 0.8819\n",
            "Epoch 80/120\n",
            "104/104 [==============================] - 3s 26ms/step - loss: 0.0650 - accuracy: 0.8892\n",
            "Epoch 81/120\n",
            "104/104 [==============================] - 2s 24ms/step - loss: 0.0654 - accuracy: 0.8899\n",
            "Epoch 82/120\n",
            "104/104 [==============================] - 3s 30ms/step - loss: 0.0621 - accuracy: 0.8945\n",
            "Epoch 83/120\n",
            "104/104 [==============================] - 4s 34ms/step - loss: 0.0626 - accuracy: 0.8957\n",
            "Epoch 84/120\n",
            "104/104 [==============================] - 2s 24ms/step - loss: 0.0602 - accuracy: 0.9011\n",
            "Epoch 85/120\n",
            "104/104 [==============================] - 3s 26ms/step - loss: 0.0606 - accuracy: 0.9013\n",
            "Epoch 86/120\n",
            "104/104 [==============================] - 3s 25ms/step - loss: 0.0596 - accuracy: 0.9035\n",
            "Epoch 87/120\n",
            "104/104 [==============================] - 3s 25ms/step - loss: 0.0580 - accuracy: 0.9047\n",
            "Epoch 88/120\n",
            "104/104 [==============================] - 2s 24ms/step - loss: 0.0576 - accuracy: 0.9054\n",
            "Epoch 89/120\n",
            "104/104 [==============================] - 3s 25ms/step - loss: 0.0572 - accuracy: 0.9069\n",
            "Epoch 90/120\n",
            "104/104 [==============================] - 3s 25ms/step - loss: 0.0562 - accuracy: 0.9076\n",
            "Epoch 91/120\n",
            "104/104 [==============================] - 2s 23ms/step - loss: 0.0581 - accuracy: 0.9069\n",
            "Epoch 92/120\n",
            "104/104 [==============================] - 2s 23ms/step - loss: 0.0561 - accuracy: 0.9096\n",
            "Epoch 93/120\n",
            "104/104 [==============================] - 3s 24ms/step - loss: 0.0553 - accuracy: 0.9122\n",
            "Epoch 94/120\n",
            "104/104 [==============================] - 3s 25ms/step - loss: 0.0613 - accuracy: 0.9047\n",
            "Epoch 95/120\n",
            "104/104 [==============================] - 3s 26ms/step - loss: 0.0549 - accuracy: 0.9134\n",
            "Epoch 96/120\n",
            "104/104 [==============================] - 3s 28ms/step - loss: 0.0543 - accuracy: 0.9115\n",
            "Epoch 97/120\n",
            "104/104 [==============================] - 2s 24ms/step - loss: 0.0559 - accuracy: 0.9103\n",
            "Epoch 98/120\n",
            "104/104 [==============================] - 2s 23ms/step - loss: 0.0549 - accuracy: 0.9110\n",
            "Epoch 99/120\n",
            "104/104 [==============================] - 2s 23ms/step - loss: 0.0535 - accuracy: 0.9117\n",
            "Epoch 100/120\n",
            "104/104 [==============================] - 2s 23ms/step - loss: 0.0551 - accuracy: 0.9110\n",
            "Epoch 101/120\n",
            "104/104 [==============================] - 3s 25ms/step - loss: 0.0533 - accuracy: 0.9120\n",
            "Epoch 102/120\n",
            "104/104 [==============================] - 3s 25ms/step - loss: 0.0532 - accuracy: 0.9122\n",
            "Epoch 103/120\n",
            "104/104 [==============================] - 3s 27ms/step - loss: 0.0528 - accuracy: 0.9120\n",
            "Epoch 104/120\n",
            "104/104 [==============================] - 3s 27ms/step - loss: 0.0524 - accuracy: 0.9139\n",
            "Epoch 105/120\n",
            "104/104 [==============================] - 4s 35ms/step - loss: 0.0528 - accuracy: 0.9120\n",
            "Epoch 106/120\n",
            "104/104 [==============================] - 3s 25ms/step - loss: 0.0518 - accuracy: 0.9132\n",
            "Epoch 107/120\n",
            "104/104 [==============================] - 3s 24ms/step - loss: 0.0535 - accuracy: 0.9125\n",
            "Epoch 108/120\n",
            "104/104 [==============================] - 2s 23ms/step - loss: 0.0517 - accuracy: 0.9139\n",
            "Epoch 109/120\n",
            "104/104 [==============================] - 3s 26ms/step - loss: 0.0520 - accuracy: 0.9137\n",
            "Epoch 110/120\n",
            "104/104 [==============================] - 3s 25ms/step - loss: 0.0524 - accuracy: 0.9137\n",
            "Epoch 111/120\n",
            "104/104 [==============================] - 3s 26ms/step - loss: 0.0518 - accuracy: 0.9137\n",
            "Epoch 112/120\n",
            "104/104 [==============================] - 3s 25ms/step - loss: 0.0525 - accuracy: 0.9142\n",
            "Epoch 113/120\n",
            "104/104 [==============================] - 3s 26ms/step - loss: 0.0526 - accuracy: 0.9129\n",
            "Epoch 114/120\n",
            "104/104 [==============================] - 2s 23ms/step - loss: 0.0527 - accuracy: 0.9139\n",
            "Epoch 115/120\n",
            "104/104 [==============================] - 2s 24ms/step - loss: 0.0519 - accuracy: 0.9139\n",
            "Epoch 116/120\n",
            "104/104 [==============================] - 3s 25ms/step - loss: 0.0523 - accuracy: 0.9146\n",
            "Epoch 117/120\n",
            "104/104 [==============================] - 3s 25ms/step - loss: 0.0514 - accuracy: 0.9144\n",
            "Epoch 118/120\n",
            "104/104 [==============================] - 3s 26ms/step - loss: 0.0518 - accuracy: 0.9144\n",
            "Epoch 119/120\n",
            "104/104 [==============================] - 3s 26ms/step - loss: 0.0516 - accuracy: 0.9137\n",
            "Epoch 120/120\n",
            "104/104 [==============================] - 2s 23ms/step - loss: 0.0521 - accuracy: 0.9134\n"
          ]
        },
        {
          "output_type": "display_data",
          "data": {
            "text/plain": [
              "<Figure size 432x288 with 1 Axes>"
            ],
            "image/png": "[encoded data removed]"
          },
          "metadata": {
            "needs_background": "light"
          }
        },
        {
          "output_type": "display_data",
          "data": {
            "text/plain": [
              "<Figure size 432x288 with 1 Axes>"
            ],
            "image/png": "[encoded data removed]"
          },
          "metadata": {
            "needs_background": "light"
          }
        }
      ]
    },
    {
      "cell_type": "code",
      "source": [
        "trainPredict = model.predict(trainX)\n",
        "testPredict = model.predict(testX)\n",
        "\n",
        "trainPredict = trainPredict.argmax(axis = 1)\n",
        "trainValues = trainY.argmax(axis = 1)\n",
        "\n",
        "testPredict = testPredict.argmax(axis = 1)\n",
        "testValues = testY.argmax(axis = 1)"
      ],
      "metadata": {
        "colab": {
          "base_uri": "https://localhost:8080/"
        },
        "id": "hyoLLUIlPkGA",
        "outputId": "1e0b0d7b-8aff-43e9-e3cb-2b05f0b32cf3"
      },
      "execution_count": 43,
      "outputs": [
        {
          "output_type": "stream",
          "name": "stdout",
          "text": [
            "129/129 [==============================] - 2s 11ms/step\n",
            "12812/12812 [==============================] - 141s 11ms/step\n"
          ]
        }
      ]
    },
    {
      "cell_type": "code",
      "source": [
        "cm = metrics.confusion_matrix(trainPredict, trainValues)\n",
        "plt.imshow(cm,cmap='jet')\n",
        "plt.colorbar()\n",
        "print('Train Acuracy:', metrics.accuracy_score(trainPredict, trainValues))"
      ],
      "metadata": {
        "colab": {
          "base_uri": "https://localhost:8080/",
          "height": 283
        },
        "id": "wA0hU3PApM6E",
        "outputId": "a921154e-b4e2-4fd0-8f56-096136107714"
      },
      "execution_count": 49,
      "outputs": [
        {
          "output_type": "stream",
          "name": "stdout",
          "text": [
            "Train Acuracy: 0.9117361784675073\n"
          ]
        },
        {
          "output_type": "display_data",
          "data": {
            "text/plain": [
              "<Figure size 432x288 with 2 Axes>"
            ],
            "image/png": "[encoded data removed]"
          },
          "metadata": {
            "needs_background": "light"
          }
        }
      ]
    },
    {
      "cell_type": "code",
      "source": [
        "cm = metrics.confusion_matrix(testPredict, testValues)\n",
        "plt.imshow(cm,cmap='jet')\n",
        "plt.colorbar()\n",
        "print('Test Acuracy:', metrics.accuracy_score(testPredict, testValues))"
      ],
      "metadata": {
        "colab": {
          "base_uri": "https://localhost:8080/",
          "height": 283
        },
        "id": "rI0A_KUKpwk7",
        "outputId": "1a8e43b6-db75-497f-f26d-89834d24df1a"
      },
      "execution_count": 52,
      "outputs": [
        {
          "output_type": "stream",
          "name": "stdout",
          "text": [
            "Test Acuracy: 0.2781150677981398\n"
          ]
        },
        {
          "output_type": "display_data",
          "data": {
            "text/plain": [
              "<Figure size 432x288 with 2 Axes>"
            ],
            "image/png": "[encoded data removed]"
          },
          "metadata": {
            "needs_background": "light"
          }
        }
      ]
    },
    {
      "cell_type": "markdown",
      "source": [
        "As we can see from the previous cells, even though the training accuracy was above 90%, the testing accuracy was very low, around 27%, which means that the model was extremely overfited to the training data. Otherwise, the testing score would be much higher, closer to the training one."
      ],
      "metadata": {
        "id": "adRUStTwr-lT"
      }
    },
    {
      "cell_type": "markdown",
      "source": [
        "### Train with 10% of dataset"
      ],
      "metadata": {
        "id": "k6jHr5WpsBSv"
      }
    },
    {
      "cell_type": "code",
      "source": [
        "look_back = 16\n",
        "\n",
        "train_size = round(len(encoded) * 0.1)\n",
        "train, test = encoded[0:train_size,:], encoded[train_size:len(encoded),:]\n",
        "trainX, trainY = create_dataset(train, look_back)\n",
        "testX, testY = create_dataset(test, look_back)\n",
        "\n",
        "print(trainX.shape, trainY.shape)\n",
        "print(testX.shape, testY.shape)"
      ],
      "metadata": {
        "colab": {
          "base_uri": "https://localhost:8080/"
        },
        "id": "x9iW7xFNqMus",
        "outputId": "948cb52d-3187-41a1-f04a-b6f8a4b5d0a7"
      },
      "execution_count": 61,
      "outputs": [
        {
          "output_type": "stream",
          "name": "stdout",
          "text": [
            "(41395, 16, 27) (41395, 27)\n",
            "(372696, 16, 27) (372696, 27)\n"
          ]
        }
      ]
    },
    {
      "cell_type": "code",
      "source": [
        "model = Sequential()\n",
        "model.add(LSTM(120, input_shape=(look_back, 27)))\n",
        "model.add(Dense(60))\n",
        "model.add(Dense(27))\n",
        "model.compile(loss='binary_crossentropy', metrics=['accuracy'])\n",
        "model.summary()"
      ],
      "metadata": {
        "colab": {
          "base_uri": "https://localhost:8080/"
        },
        "id": "x0w_M03DsGMD",
        "outputId": "2e869730-bcb6-4c60-bd32-c0fb1d9f94c3"
      },
      "execution_count": 62,
      "outputs": [
        {
          "output_type": "stream",
          "name": "stdout",
          "text": [
            "Model: \"sequential_19\"\n",
            "_________________________________________________________________\n",
            " Layer (type)                Output Shape              Param #   \n",
            "=================================================================\n",
            " lstm_27 (LSTM)              (None, 120)               71040     \n",
            "                                                                 \n",
            " dense_29 (Dense)            (None, 60)                7260      \n",
            "                                                                 \n",
            " dense_30 (Dense)            (None, 27)                1647      \n",
            "                                                                 \n",
            "=================================================================\n",
            "Total params: 79,947\n",
            "Trainable params: 79,947\n",
            "Non-trainable params: 0\n",
            "_________________________________________________________________\n"
          ]
        }
      ]
    },
    {
      "cell_type": "code",
      "source": [
        "history = model.fit(trainX, trainY, batch_size=40, epochs=50, verbose=1)\n",
        "\n",
        "plot_history(history)"
      ],
      "metadata": {
        "colab": {
          "base_uri": "https://localhost:8080/",
          "height": 1000
        },
        "id": "Kjwf2GzYsKcT",
        "outputId": "f125ad0d-2f0d-4b49-8ad8-3a4b0e730a5a"
      },
      "execution_count": 63,
      "outputs": [
        {
          "output_type": "stream",
          "name": "stdout",
          "text": [
            "Epoch 1/50\n",
            "1035/1035 [==============================] - 31s 27ms/step - loss: 0.1832 - accuracy: 0.2629\n",
            "Epoch 2/50\n",
            "1035/1035 [==============================] - 27s 26ms/step - loss: 0.1735 - accuracy: 0.3084\n",
            "Epoch 3/50\n",
            "1035/1035 [==============================] - 27s 26ms/step - loss: 0.1672 - accuracy: 0.3286\n",
            "Epoch 4/50\n",
            "1035/1035 [==============================] - 28s 27ms/step - loss: 0.1679 - accuracy: 0.3570\n",
            "Epoch 5/50\n",
            "1035/1035 [==============================] - 25s 25ms/step - loss: 0.1665 - accuracy: 0.3756\n",
            "Epoch 6/50\n",
            "1035/1035 [==============================] - 26s 25ms/step - loss: 0.1647 - accuracy: 0.3980\n",
            "Epoch 7/50\n",
            "1035/1035 [==============================] - 27s 27ms/step - loss: 0.1653 - accuracy: 0.4108\n",
            "Epoch 8/50\n",
            "1035/1035 [==============================] - 26s 25ms/step - loss: 0.1659 - accuracy: 0.4279\n",
            "Epoch 9/50\n",
            "1035/1035 [==============================] - 27s 26ms/step - loss: 0.1655 - accuracy: 0.4384\n",
            "Epoch 10/50\n",
            "1035/1035 [==============================] - 26s 25ms/step - loss: 0.1661 - accuracy: 0.4477\n",
            "Epoch 11/50\n",
            "1035/1035 [==============================] - 25s 24ms/step - loss: 0.1658 - accuracy: 0.4534\n",
            "Epoch 12/50\n",
            "1035/1035 [==============================] - 27s 26ms/step - loss: 0.1650 - accuracy: 0.4604\n",
            "Epoch 13/50\n",
            "1035/1035 [==============================] - 26s 26ms/step - loss: 0.1636 - accuracy: 0.4685\n",
            "Epoch 14/50\n",
            "1035/1035 [==============================] - 25s 25ms/step - loss: 0.1652 - accuracy: 0.4759\n",
            "Epoch 15/50\n",
            "1035/1035 [==============================] - 26s 25ms/step - loss: 0.1649 - accuracy: 0.4847\n",
            "Epoch 16/50\n",
            "1035/1035 [==============================] - 25s 25ms/step - loss: 0.1626 - accuracy: 0.4882\n",
            "Epoch 17/50\n",
            "1035/1035 [==============================] - 28s 27ms/step - loss: 0.1640 - accuracy: 0.4929\n",
            "Epoch 18/50\n",
            "1035/1035 [==============================] - 25s 24ms/step - loss: 0.1635 - accuracy: 0.4967\n",
            "Epoch 19/50\n",
            "1035/1035 [==============================] - 26s 25ms/step - loss: 0.1633 - accuracy: 0.5060\n",
            "Epoch 20/50\n",
            "1035/1035 [==============================] - 25s 24ms/step - loss: 0.1621 - accuracy: 0.5092\n",
            "Epoch 21/50\n",
            "1035/1035 [==============================] - 26s 26ms/step - loss: 0.1638 - accuracy: 0.5099\n",
            "Epoch 22/50\n",
            "1035/1035 [==============================] - 26s 25ms/step - loss: 0.1629 - accuracy: 0.5180\n",
            "Epoch 23/50\n",
            "1035/1035 [==============================] - 25s 24ms/step - loss: 0.1634 - accuracy: 0.5246\n",
            "Epoch 24/50\n",
            "1035/1035 [==============================] - 28s 27ms/step - loss: 0.1620 - accuracy: 0.5297\n",
            "Epoch 25/50\n",
            "1035/1035 [==============================] - 25s 24ms/step - loss: 0.1623 - accuracy: 0.5312\n",
            "Epoch 26/50\n",
            "1035/1035 [==============================] - 26s 25ms/step - loss: 0.1627 - accuracy: 0.5346\n",
            "Epoch 27/50\n",
            "1035/1035 [==============================] - 25s 24ms/step - loss: 0.1630 - accuracy: 0.5350\n",
            "Epoch 28/50\n",
            "1035/1035 [==============================] - 26s 25ms/step - loss: 0.1611 - accuracy: 0.5413\n",
            "Epoch 29/50\n",
            "1035/1035 [==============================] - 26s 26ms/step - loss: 0.1623 - accuracy: 0.5478\n",
            "Epoch 30/50\n",
            "1035/1035 [==============================] - 24s 24ms/step - loss: 0.1612 - accuracy: 0.5516\n",
            "Epoch 31/50\n",
            "1035/1035 [==============================] - 26s 25ms/step - loss: 0.1617 - accuracy: 0.5554\n",
            "Epoch 32/50\n",
            "1035/1035 [==============================] - 27s 26ms/step - loss: 0.1609 - accuracy: 0.5617\n",
            "Epoch 33/50\n",
            "1035/1035 [==============================] - 26s 25ms/step - loss: 0.1624 - accuracy: 0.5630\n",
            "Epoch 34/50\n",
            "1035/1035 [==============================] - 28s 27ms/step - loss: 0.1600 - accuracy: 0.5675\n",
            "Epoch 35/50\n",
            "1035/1035 [==============================] - 25s 24ms/step - loss: 0.1610 - accuracy: 0.5708\n",
            "Epoch 36/50\n",
            "1035/1035 [==============================] - 24s 24ms/step - loss: 0.1580 - accuracy: 0.5773\n",
            "Epoch 37/50\n",
            "1035/1035 [==============================] - 26s 25ms/step - loss: 0.1579 - accuracy: 0.5799\n",
            "Epoch 38/50\n",
            "1035/1035 [==============================] - 25s 24ms/step - loss: 0.1563 - accuracy: 0.5859\n",
            "Epoch 39/50\n",
            "1035/1035 [==============================] - 27s 26ms/step - loss: 0.1567 - accuracy: 0.5857\n",
            "Epoch 40/50\n",
            "1035/1035 [==============================] - 25s 24ms/step - loss: 0.1568 - accuracy: 0.5932\n",
            "Epoch 41/50\n",
            "1035/1035 [==============================] - 26s 25ms/step - loss: 0.1577 - accuracy: 0.5965\n",
            "Epoch 42/50\n",
            "1035/1035 [==============================] - 26s 25ms/step - loss: 0.1574 - accuracy: 0.5969\n",
            "Epoch 43/50\n",
            "1035/1035 [==============================] - 26s 25ms/step - loss: 0.1565 - accuracy: 0.6022\n",
            "Epoch 44/50\n",
            "1035/1035 [==============================] - 27s 26ms/step - loss: 0.1553 - accuracy: 0.6055\n",
            "Epoch 45/50\n",
            "1035/1035 [==============================] - 24s 24ms/step - loss: 0.1559 - accuracy: 0.6111\n",
            "Epoch 46/50\n",
            "1035/1035 [==============================] - 26s 25ms/step - loss: 0.1562 - accuracy: 0.6124\n",
            "Epoch 47/50\n",
            "1035/1035 [==============================] - 27s 26ms/step - loss: 0.1546 - accuracy: 0.6131\n",
            "Epoch 48/50\n",
            "1035/1035 [==============================] - 26s 25ms/step - loss: 0.1540 - accuracy: 0.6193\n",
            "Epoch 49/50\n",
            "1035/1035 [==============================] - 27s 26ms/step - loss: 0.1544 - accuracy: 0.6224\n",
            "Epoch 50/50\n",
            "1035/1035 [==============================] - 25s 24ms/step - loss: 0.1532 - accuracy: 0.6275\n"
          ]
        },
        {
          "output_type": "display_data",
          "data": {
            "text/plain": [
              "<Figure size 432x288 with 1 Axes>"
            ],
            "image/png": "[encoded data removed]"
          },
          "metadata": {
            "needs_background": "light"
          }
        },
        {
          "output_type": "display_data",
          "data": {
            "text/plain": [
              "<Figure size 432x288 with 1 Axes>"
            ],
            "image/png": "[encoded data removed]"
          },
          "metadata": {
            "needs_background": "light"
          }
        }
      ]
    },
    {
      "cell_type": "code",
      "source": [
        "trainPredict = model.predict(trainX)\n",
        "testPredict = model.predict(testX)\n",
        "\n",
        "trainPredict = trainPredict.argmax(axis = 1)\n",
        "trainValues = trainY.argmax(axis = 1)\n",
        "\n",
        "testPredict = testPredict.argmax(axis = 1)\n",
        "testValues = testY.argmax(axis = 1)"
      ],
      "metadata": {
        "colab": {
          "base_uri": "https://localhost:8080/"
        },
        "id": "MxhZsTCysPRr",
        "outputId": "1344b214-305d-4085-d68c-a88f0e55ec51"
      },
      "execution_count": 64,
      "outputs": [
        {
          "output_type": "stream",
          "name": "stdout",
          "text": [
            "1294/1294 [==============================] - 12s 9ms/step\n",
            "11647/11647 [==============================] - 109s 9ms/step\n"
          ]
        }
      ]
    },
    {
      "cell_type": "code",
      "source": [
        "cm = metrics.confusion_matrix(trainPredict, trainValues)\n",
        "plt.imshow(cm,cmap='jet')\n",
        "plt.colorbar()\n",
        "print('Train Acuracy:', metrics.accuracy_score(trainPredict, trainValues))"
      ],
      "metadata": {
        "colab": {
          "base_uri": "https://localhost:8080/",
          "height": 283
        },
        "id": "3WwnAdCasT4H",
        "outputId": "221ade7d-79e0-4fa5-db1a-1fe5ef3bd09c"
      },
      "execution_count": 65,
      "outputs": [
        {
          "output_type": "stream",
          "name": "stdout",
          "text": [
            "Train Acuracy: 0.6409711317792004\n"
          ]
        },
        {
          "output_type": "display_data",
          "data": {
            "text/plain": [
              "<Figure size 432x288 with 2 Axes>"
            ],
            "image/png": "[encoded data removed]"
          },
          "metadata": {
            "needs_background": "light"
          }
        }
      ]
    },
    {
      "cell_type": "code",
      "source": [
        "cm = metrics.confusion_matrix(testPredict, testValues)\n",
        "plt.imshow(cm,cmap='jet')\n",
        "plt.colorbar()\n",
        "print('Test Acuracy:', metrics.accuracy_score(testPredict, testValues))"
      ],
      "metadata": {
        "colab": {
          "base_uri": "https://localhost:8080/",
          "height": 283
        },
        "id": "sR8cG9XjsWeh",
        "outputId": "b3b420a7-bba7-44ec-dc41-a3e872e34cf3"
      },
      "execution_count": 66,
      "outputs": [
        {
          "output_type": "stream",
          "name": "stdout",
          "text": [
            "Test Acuracy: 0.46527464743383345\n"
          ]
        },
        {
          "output_type": "display_data",
          "data": {
            "text/plain": [
              "<Figure size 432x288 with 2 Axes>"
            ],
            "image/png": "[encoded data removed]"
          },
          "metadata": {
            "needs_background": "light"
          }
        }
      ]
    },
    {
      "cell_type": "markdown",
      "source": [
        "As we can see from the results, training with 10% of the data leads to much better results, with the accuracy for the test data being above 46%."
      ],
      "metadata": {
        "id": "-pH0LCHXFRFO"
      }
    }
  ]
}