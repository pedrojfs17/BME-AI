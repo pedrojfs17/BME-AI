{
 "cells": [
  {
   "cell_type": "markdown",
   "metadata": {},
   "source": [
    "## Numpy"
   ]
  },
  {
   "cell_type": "code",
   "execution_count": null,
   "metadata": {},
   "outputs": [],
   "source": [
    "import numpy as np\n",
    "import matplotlib.pyplot as plt"
   ]
  },
  {
   "cell_type": "code",
   "execution_count": null,
   "metadata": {},
   "outputs": [],
   "source": [
    "a = np.arange(10)\n",
    "b = range(10)\n",
    "print(a,b)\n",
    "print(type(a),type(b))"
   ]
  },
  {
   "cell_type": "code",
   "execution_count": null,
   "metadata": {},
   "outputs": [],
   "source": [
    "b = [1,2,3]\n",
    "print(type(b),b,b[0])\n",
    "a = np.array(b)\n",
    "print(type(a),a,a[0])"
   ]
  },
  {
   "cell_type": "markdown",
   "metadata": {},
   "source": [
    "#### reshape, dimension"
   ]
  },
  {
   "cell_type": "code",
   "execution_count": null,
   "metadata": {},
   "outputs": [],
   "source": [
    "a = np.array([1,2,3,4,5,6])\n",
    "b = np.array([[1,2,3],[4,5,6]])\n",
    "print(np.ndim(a))\n",
    "print(np.ndim(b),np.ndim(b[0]))"
   ]
  },
  {
   "cell_type": "code",
   "execution_count": null,
   "metadata": {},
   "outputs": [],
   "source": [
    "a = np.array([1,2,3,4,5,6])\n",
    "c = a.reshape(2,3)\n",
    "print(c,np.ndim(c))"
   ]
  },
  {
   "cell_type": "code",
   "execution_count": null,
   "metadata": {},
   "outputs": [],
   "source": [
    "a = np.array([1,2,3,4,5,6])\n",
    "c = a.reshape(2,4)"
   ]
  },
  {
   "cell_type": "markdown",
   "metadata": {},
   "source": [
    "#### Use -1 for any. The computer will calculate the size"
   ]
  },
  {
   "cell_type": "code",
   "execution_count": null,
   "metadata": {},
   "outputs": [],
   "source": [
    "a = np.array([1,2,3,4,5,6])\n",
    "c = a.reshape(2,-1)\n",
    "d = c.T\n",
    "print(c,c.shape)\n",
    "print(d,d.shape)"
   ]
  },
  {
   "cell_type": "code",
   "execution_count": null,
   "metadata": {},
   "outputs": [],
   "source": [
    "plt.plot(c)"
   ]
  },
  {
   "cell_type": "code",
   "execution_count": null,
   "metadata": {},
   "outputs": [],
   "source": [
    "plt.plot(*c,\"r*-\")"
   ]
  },
  {
   "cell_type": "markdown",
   "metadata": {},
   "source": [
    "#### Data type, indexing"
   ]
  },
  {
   "cell_type": "code",
   "execution_count": null,
   "metadata": {},
   "outputs": [],
   "source": [
    "a = np.zeros((3,3),dtype=int)\n",
    "print(\"a=\",a)\n",
    "a[0][1] = 1\n",
    "a[1, 2] = 3.5\n",
    "print(\"\\na=\",a)\n",
    "a[:,0:3:2] = 2\n",
    "print(\"\\na=\",a)"
   ]
  },
  {
   "cell_type": "code",
   "execution_count": null,
   "metadata": {},
   "outputs": [],
   "source": [
    "a = np.arange(9).reshape(3,3)\n",
    "print(a)\n",
    "print(\"\")\n",
    "print(a[1])\n",
    "print(\"---\")\n",
    "print(a[:,1])"
   ]
  },
  {
   "cell_type": "code",
   "execution_count": null,
   "metadata": {},
   "outputs": [],
   "source": [
    "plt.plot(d[:,0],d[:,1],\"r*-\")"
   ]
  },
  {
   "cell_type": "code",
   "execution_count": null,
   "metadata": {},
   "outputs": [],
   "source": [
    "# string of length 20\n",
    "b = np.zeros(3,dtype=\"S20\")\n",
    "b[2] = \"alma\"\n",
    "b[1] = \"1234567890123456789012\"\n",
    "print(\"b=\",b)"
   ]
  },
  {
   "cell_type": "markdown",
   "metadata": {},
   "source": [
    "The towns.csv file\n",
    "<pre>\n",
    "#town Jan Feb Mar Apr May Jun Jul Aug Sep Oct Nov Dec\n",
    "Tallinn -3 -5 -1 3 10 13 16 15 10 6 1 -2\n",
    "Beijing -3 0 6 13 20 24 26 25 20 13 5 -1\n",
    "Berlin 0 -1 4 7 12 16 18 17 14 9 4 1\n",
    "Buenos_Aires 23 22 20 16 13 10 10 11 13 16 18 22\n",
    "Cairo 13 15 17 21 25 27 28 27 26 23 19 15\n",
    "Cape_Town 21 21 20 17 15 13 12 13 14 16 18 20\n",
    "Helsinki -5 -6 -2 3 10 13 16 15 10 5 0 -3\n",
    "London 3 3 6 7 11 14 16 16 13 10 6 5\n",
    "Moscow -8 -7 -2 5 12 15 17 15 10 3 -2 -6\n",
    "Ottawa -10 -8 -2 6 13 18 21 20 14 7 1 -7\n",
    "Paris 3 4 7 10 13 16 19 19 16 11 6 5\n",
    "Riga -3 -3 1 5 11 15 17 16 12 7 2 -1\n",
    "Rome 8 8 11 12 17 20 23 23 21 17 12 9\n",
    "Singapore 27 27 28 28 28 28 28 28 27 27 27 26\n",
    "Stockholm -2 -3 0 3 10 14 17 16 11 6 1 -2\n",
    "Waschington_D.C. 2 3 7 13 18 23 26 25 21 15 9 3\n",
    "</pre>\n",
    "<a href=\"http://www.phy.bme.hu/~torok/towns.csv\">http://www.phy.bme.hu/~torok/towns.csv</a>"
   ]
  },
  {
   "cell_type": "code",
   "execution_count": null,
   "metadata": {},
   "outputs": [],
   "source": [
    "csv = np.genfromtxt('towns.csv', delimiter=\" \", dtype=int)\n",
    "print(csv[0:3])\n",
    "print(\"-----------------\")\n",
    "print(csv[:,1:][0:3])"
   ]
  },
  {
   "cell_type": "code",
   "execution_count": null,
   "metadata": {},
   "outputs": [],
   "source": [
    "data =  np.genfromtxt('towns.csv', delimiter=\" \", dtype=int)[0:,1:]\n",
    "print(len(data),len(data[0]))"
   ]
  },
  {
   "cell_type": "code",
   "execution_count": null,
   "metadata": {},
   "outputs": [],
   "source": [
    "print(data.mean(axis=0))"
   ]
  },
  {
   "cell_type": "code",
   "execution_count": null,
   "metadata": {},
   "outputs": [],
   "source": [
    "print(data.mean(axis=1))"
   ]
  },
  {
   "cell_type": "markdown",
   "metadata": {},
   "source": [
    "#### Pandas"
   ]
  },
  {
   "cell_type": "code",
   "execution_count": null,
   "metadata": {},
   "outputs": [],
   "source": [
    "import pandas as pd"
   ]
  },
  {
   "cell_type": "code",
   "execution_count": null,
   "metadata": {},
   "outputs": [],
   "source": [
    "df = pd.read_csv(\"towns.csv\",sep=' ')\n",
    "df.head()"
   ]
  },
  {
   "cell_type": "code",
   "execution_count": null,
   "metadata": {},
   "outputs": [],
   "source": [
    "df['Jan']"
   ]
  },
  {
   "cell_type": "code",
   "execution_count": null,
   "metadata": {},
   "outputs": [],
   "source": [
    "df.iloc[0]"
   ]
  },
  {
   "cell_type": "code",
   "execution_count": null,
   "metadata": {},
   "outputs": [],
   "source": [
    "print(df.loc[df['#town'] == 'Tallinn'])"
   ]
  },
  {
   "cell_type": "code",
   "execution_count": null,
   "metadata": {},
   "outputs": [],
   "source": [
    "df.values[:,1:]"
   ]
  },
  {
   "cell_type": "markdown",
   "metadata": {},
   "source": [
    "#### Setting index column\n",
    "With index_col option you can set the column of the index. The values in that column must be uniqe, then you can reference the columns by these values.\n",
    "\n",
    "(Helpful comment by Tamás Kalmár)"
   ]
  },
  {
   "cell_type": "code",
   "execution_count": null,
   "metadata": {},
   "outputs": [],
   "source": [
    "df = pd.read_csv(\"towns.csv\",sep=' ',index_col=0)\n",
    "df.head()"
   ]
  },
  {
   "cell_type": "code",
   "execution_count": null,
   "metadata": {},
   "outputs": [],
   "source": [
    "df.loc[\"Tallinn\"]"
   ]
  },
  {
   "cell_type": "code",
   "execution_count": null,
   "metadata": {},
   "outputs": [],
   "source": [
    "df.values"
   ]
  },
  {
   "cell_type": "markdown",
   "metadata": {},
   "source": [
    "#### Random numbers\n",
    "* seed: the pseudo random generator starts with this number. Always the same sequence\n",
    "* Mersenne Twister algorithm (C Linear congruential generator)\n",
    "* np.random.random -> uniform random number from 0 to 1"
   ]
  },
  {
   "cell_type": "code",
   "execution_count": null,
   "metadata": {},
   "outputs": [],
   "source": [
    "np.random.seed(12345)\n",
    "a = np.random.random(10)\n",
    "print(a)"
   ]
  },
  {
   "cell_type": "code",
   "execution_count": null,
   "metadata": {},
   "outputs": [],
   "source": [
    "a = np.random.random(10)\n",
    "print(a)"
   ]
  },
  {
   "cell_type": "markdown",
   "metadata": {},
   "source": [
    "#### do something with probability p"
   ]
  },
  {
   "cell_type": "code",
   "execution_count": null,
   "metadata": {},
   "outputs": [],
   "source": [
    "N = 10\n",
    "p = 0.3\n",
    "a = np.random.random(N)\n",
    "for i in range(N):\n",
    "    if a[i] < p:\n",
    "        print(\"It happened in step %d.\" % (i))"
   ]
  },
  {
   "cell_type": "code",
   "execution_count": null,
   "metadata": {},
   "outputs": [],
   "source": [
    "a = np.random.random(size=(3,3))\n",
    "print(a)"
   ]
  },
  {
   "cell_type": "code",
   "execution_count": null,
   "metadata": {},
   "outputs": [],
   "source": [
    "print(np.random.randint(10,size=(2,2)))\n",
    "print(\"--------\")\n",
    "print(np.random.normal(2,1,size=(2,2)))\n",
    "print(\"--------\")\n",
    "print(np.random.normal(loc=2,scale=1,size=(2,2)))\n",
    "print(\"--------\")\n",
    "print(np.random.normal(scale=1,loc=2,size=(2,2)))"
   ]
  },
  {
   "cell_type": "markdown",
   "metadata": {},
   "source": [
    "#### Choose values"
   ]
  },
  {
   "cell_type": "code",
   "execution_count": null,
   "metadata": {},
   "outputs": [],
   "source": [
    "print(np.random.choice(5, 10))\n",
    "print(np.random.choice(5,3,replace=False))\n",
    "print(np.random.choice(5, 10, p=[0.1, 0, 0.3, 0.6, 0]))\n",
    "c = [\"Budapest\", \"Pécs\", \"Debrecen\", \"Miskolc\"]\n",
    "print(np.random.choice(c,1))\n",
    "print(np.random.choice(c,2))"
   ]
  },
  {
   "cell_type": "markdown",
   "metadata": {},
   "source": [
    "#### Indexing array by array!"
   ]
  },
  {
   "cell_type": "code",
   "execution_count": null,
   "metadata": {},
   "outputs": [],
   "source": [
    "a = np.random.random(6)\n",
    "index = np.random.choice(6,3,replace=False)\n",
    "print(a)\n",
    "print(index)\n",
    "print(a[index])\n",
    "a[index] = np.random.random(3)\n",
    "print(a)\n",
    "print(a[a>0.5])\n",
    "a[a>0.5] = 0.5\n",
    "print(a)"
   ]
  },
  {
   "cell_type": "markdown",
   "metadata": {},
   "source": [
    "#### Mask out elements"
   ]
  },
  {
   "cell_type": "code",
   "execution_count": null,
   "metadata": {},
   "outputs": [],
   "source": [
    "a = np.random.random(6)\n",
    "mask = np.zeros(6,dtype=bool)\n",
    "mask[0:2] = True\n",
    "print(\"a=\",a)\n",
    "print(\"mask=\",mask)\n",
    "print(\"a[mask]=\",a[mask])"
   ]
  },
  {
   "cell_type": "markdown",
   "metadata": {},
   "source": [
    "### Change all values based on conditions"
   ]
  },
  {
   "cell_type": "code",
   "execution_count": null,
   "metadata": {
    "scrolled": true
   },
   "outputs": [],
   "source": [
    "a = np.random.random(10)\n",
    "print(a)\n",
    "print(len(a[a < 0.5]))\n",
    "a[a < 0.5] = np.random.random((a < 0.5).sum())\n",
    "print(a)"
   ]
  },
  {
   "cell_type": "code",
   "execution_count": null,
   "metadata": {},
   "outputs": [],
   "source": [
    "a = np.random.random(6)\n",
    "print(a)\n",
    "a[a>0.5] = 0.5\n",
    "print(a)"
   ]
  },
  {
   "cell_type": "markdown",
   "metadata": {},
   "source": [
    "### Try to change only the first one"
   ]
  },
  {
   "cell_type": "code",
   "execution_count": null,
   "metadata": {},
   "outputs": [],
   "source": [
    "a = np.random.random(6)\n",
    "print(a)\n",
    "a[a>0.5][0] = 0.5\n",
    "print(a)"
   ]
  },
  {
   "cell_type": "code",
   "execution_count": null,
   "metadata": {},
   "outputs": [],
   "source": [
    "a = np.random.random(6)\n",
    "print(a)\n",
    "w = np.where(a<0.5)\n",
    "print(w)"
   ]
  },
  {
   "cell_type": "code",
   "execution_count": null,
   "metadata": {},
   "outputs": [],
   "source": [
    "if len(w):\n",
    "    a[w[0][0]] = 0.5\n",
    "print(a)"
   ]
  },
  {
   "cell_type": "markdown",
   "metadata": {},
   "source": [
    "### in higher dimensions"
   ]
  },
  {
   "cell_type": "code",
   "execution_count": null,
   "metadata": {},
   "outputs": [],
   "source": [
    "a = np.random.random((3,3))\n",
    "print(a)\n",
    "a[a>0.5] = 0.5\n",
    "print(\"----\")\n",
    "print(a)"
   ]
  },
  {
   "cell_type": "code",
   "execution_count": null,
   "metadata": {},
   "outputs": [],
   "source": [
    "a = np.random.random((3,3))\n",
    "print(a)\n",
    "w = np.where(a<0.5)\n",
    "print(\"----\")\n",
    "print(w)"
   ]
  },
  {
   "cell_type": "code",
   "execution_count": null,
   "metadata": {},
   "outputs": [],
   "source": [
    "print(a[w[0],w[1]])\n",
    "a[w[0],w[1]] = 0.5\n",
    "print(\"----\")\n",
    "print(a)"
   ]
  },
  {
   "cell_type": "code",
   "execution_count": null,
   "metadata": {},
   "outputs": [],
   "source": [
    "a = np.random.random((3,3))\n",
    "print(a)\n",
    "w = np.where(a<0.5)\n",
    "print(\"----\")\n",
    "print(w)"
   ]
  },
  {
   "cell_type": "code",
   "execution_count": null,
   "metadata": {},
   "outputs": [],
   "source": [
    "for i in range(len(w[0])):\n",
    "    a[w[0][i],w[1][i]] = 0.5\n",
    "    break\n",
    "print(a)"
   ]
  },
  {
   "cell_type": "code",
   "execution_count": null,
   "metadata": {},
   "outputs": [],
   "source": [
    "for i in range(len(w[0])):\n",
    "    a[w[0][i],w[1][i]] = 0.5\n",
    "    break\n",
    "print(a)"
   ]
  },
  {
   "cell_type": "markdown",
   "metadata": {},
   "source": [
    "#### numpy operations"
   ]
  },
  {
   "cell_type": "code",
   "execution_count": null,
   "metadata": {},
   "outputs": [],
   "source": [
    "a = np.arange(12).reshape((4,3))\n",
    "print(a)\n",
    "print(\"--------\")\n",
    "print(a.T)\n",
    "print(\"--------\")\n",
    "print(\"a*a=\", a * a)"
   ]
  },
  {
   "cell_type": "code",
   "execution_count": null,
   "metadata": {},
   "outputs": [],
   "source": [
    "a = np.arange(9).reshape((3,3))\n",
    "b = np.array([1,0,1])\n",
    "print(a, b)"
   ]
  },
  {
   "cell_type": "code",
   "execution_count": null,
   "metadata": {},
   "outputs": [],
   "source": [
    "print(\"2*a=\",2 * a)"
   ]
  },
  {
   "cell_type": "code",
   "execution_count": null,
   "metadata": {},
   "outputs": [],
   "source": [
    "print(\"a+1=\",a + 1)"
   ]
  },
  {
   "cell_type": "code",
   "execution_count": null,
   "metadata": {},
   "outputs": [],
   "source": [
    "print(\"a+b=\",a + b)"
   ]
  },
  {
   "cell_type": "code",
   "execution_count": null,
   "metadata": {},
   "outputs": [],
   "source": [
    "print(\"a+a=\",a + a)"
   ]
  },
  {
   "cell_type": "code",
   "execution_count": null,
   "metadata": {},
   "outputs": [],
   "source": [
    "print(\"a+b=\",a * b)"
   ]
  },
  {
   "cell_type": "markdown",
   "metadata": {},
   "source": [
    "### Linear algebra, matrix operations"
   ]
  },
  {
   "cell_type": "code",
   "execution_count": null,
   "metadata": {},
   "outputs": [],
   "source": [
    "a = np.random.random((2,4))\n",
    "a"
   ]
  },
  {
   "cell_type": "code",
   "execution_count": null,
   "metadata": {},
   "outputs": [],
   "source": [
    "b = np.random.random((2,3))\n",
    "c = np.random.random((3,3))\n",
    "print(b)\n",
    "print(\"---\")\n",
    "print(c)"
   ]
  },
  {
   "cell_type": "markdown",
   "metadata": {},
   "source": [
    "### matrix multiplication\n",
    "Let $a_{ij}$ be an $l\\times m$ matrix, $b_{ij}$ be an $m\\times n$ matrix and $c_{ij}$ be an $l\\times n$ matrix than the matrix product (np.dot() in python) is defined as\n",
    "$$c_{ij}=\\sum_{k=1}^{m} a_{ik} b_{kj}$$\n",
    "If $c^{-1}$ is the inverse of a matrix than $c\\cdot c^{-1}=I$ where $I$ is the unit matrix.\n",
    "\n",
    "Transpose (a.T in python) mirrors the matrix to its diagonal (exchanges rows and columns)"
   ]
  },
  {
   "cell_type": "code",
   "execution_count": null,
   "metadata": {},
   "outputs": [],
   "source": [
    "print(np.linalg.inv(c))\n",
    "print(\"---\")\n",
    "print(np.dot(c,np.linalg.inv(c)))"
   ]
  },
  {
   "cell_type": "code",
   "execution_count": null,
   "metadata": {},
   "outputs": [],
   "source": [
    "np.dot(a,b.T)"
   ]
  },
  {
   "cell_type": "code",
   "execution_count": null,
   "metadata": {},
   "outputs": [],
   "source": [
    "np.dot(b,c)"
   ]
  },
  {
   "cell_type": "code",
   "execution_count": null,
   "metadata": {},
   "outputs": [],
   "source": [
    "a = np.arange(3)\n",
    "print(a,a.T)"
   ]
  },
  {
   "cell_type": "code",
   "execution_count": null,
   "metadata": {},
   "outputs": [],
   "source": [
    "print(np.dot(a,a))"
   ]
  },
  {
   "cell_type": "code",
   "execution_count": null,
   "metadata": {},
   "outputs": [],
   "source": [
    "b = np.array([[0,1,2]])\n",
    "print(b)\n",
    "print(\"---\")\n",
    "print(b.T)"
   ]
  },
  {
   "cell_type": "code",
   "execution_count": null,
   "metadata": {},
   "outputs": [],
   "source": [
    "print(np.dot(b,b.T))"
   ]
  },
  {
   "cell_type": "code",
   "execution_count": null,
   "metadata": {},
   "outputs": [],
   "source": [
    "print(np.dot(b.T,b))"
   ]
  },
  {
   "cell_type": "code",
   "execution_count": null,
   "metadata": {},
   "outputs": [],
   "source": [
    "a = np.arange(9).reshape((3,3))\n",
    "c = a\n",
    "c[0] = 9\n",
    "print(\"a=\", a)\n",
    "d = np.copy(a)\n",
    "d[0] = 0\n",
    "print(\"a=\",a,\"\\nd=\",d)"
   ]
  },
  {
   "cell_type": "code",
   "execution_count": null,
   "metadata": {},
   "outputs": [],
   "source": [
    "a = np.arange(9).reshape((3,3))\n",
    "print(\"a=\",a)\n",
    "print(\"sin=\",np.sin(a))\n",
    "print(\"x**3=\",np.power(a,3))\n",
    "print(\"sum=\",np.sum(a,axis=0))\n",
    "print(\"mean=\",np.mean(a))\n",
    "print(\"size=\",np.size(a))\n",
    "print(\"min=\",np.min(a))"
   ]
  },
  {
   "cell_type": "code",
   "execution_count": null,
   "metadata": {},
   "outputs": [],
   "source": [
    "#np.random.seed(12347)\n",
    "a = np.random.random((3,3))\n",
    "print(a)\n",
    "print(\"shape=\",a.shape)\n",
    "print(\"minpos=\",a.argmin())\n",
    "print(\"2d minpos=\",np.unravel_index(a.argmin(), a.shape))"
   ]
  },
  {
   "cell_type": "markdown",
   "metadata": {},
   "source": [
    "### normalize data"
   ]
  },
  {
   "cell_type": "code",
   "execution_count": null,
   "metadata": {},
   "outputs": [],
   "source": [
    "a = np.random.random((4,2))\n",
    "print(a)"
   ]
  },
  {
   "cell_type": "code",
   "execution_count": null,
   "metadata": {},
   "outputs": [],
   "source": [
    "print(a.sum(axis=1))"
   ]
  },
  {
   "cell_type": "code",
   "execution_count": null,
   "metadata": {},
   "outputs": [],
   "source": [
    "b = a / a.sum(axis=1)"
   ]
  },
  {
   "cell_type": "code",
   "execution_count": null,
   "metadata": {},
   "outputs": [],
   "source": [
    "b = a.T / a.sum(axis=1)\n",
    "print(b)"
   ]
  },
  {
   "cell_type": "code",
   "execution_count": null,
   "metadata": {},
   "outputs": [],
   "source": [
    "b = (a.T / a.sum(axis=1)).T\n",
    "print(b)"
   ]
  },
  {
   "cell_type": "markdown",
   "metadata": {},
   "source": [
    "#### Regular arrays"
   ]
  },
  {
   "cell_type": "code",
   "execution_count": null,
   "metadata": {},
   "outputs": [],
   "source": [
    "print(np.arange(10))\n",
    "print(np.arange(5,7,0.1))\n",
    "print(np.linspace(5,7,9))"
   ]
  },
  {
   "cell_type": "code",
   "execution_count": null,
   "metadata": {},
   "outputs": [],
   "source": [
    "print(np.logspace(0,2,10))\n",
    "print(np.logspace(np.log10(0.3),np.log10(28),10))"
   ]
  },
  {
   "cell_type": "markdown",
   "metadata": {},
   "source": [
    "#### Histogram"
   ]
  },
  {
   "cell_type": "code",
   "execution_count": null,
   "metadata": {},
   "outputs": [],
   "source": [
    "a = np.random.random(100)\n",
    "h = np.histogram(a)\n",
    "print(h)\n",
    "print(len(h[0]),len(h[1]))"
   ]
  },
  {
   "cell_type": "code",
   "execution_count": null,
   "metadata": {},
   "outputs": [],
   "source": [
    "a = np.random.random(10)\n",
    "h = np.histogram(a, bins=[0, 0.5, 1.0])\n",
    "print(a)\n",
    "print(h)"
   ]
  },
  {
   "cell_type": "code",
   "execution_count": null,
   "metadata": {},
   "outputs": [],
   "source": [
    "a = np.random.random(10000)\n",
    "h = np.histogram(a, bins=[0, 0.5, 1.0])\n",
    "print(h[0])"
   ]
  },
  {
   "cell_type": "code",
   "execution_count": null,
   "metadata": {},
   "outputs": [],
   "source": [
    "plt.hist(a)"
   ]
  },
  {
   "cell_type": "code",
   "execution_count": null,
   "metadata": {},
   "outputs": [],
   "source": [
    "h = np.histogram(a,bins=10)\n",
    "print(h)"
   ]
  },
  {
   "cell_type": "code",
   "execution_count": null,
   "metadata": {},
   "outputs": [],
   "source": [
    "print(h[0].shape,h[1].shape)"
   ]
  },
  {
   "cell_type": "code",
   "execution_count": null,
   "metadata": {},
   "outputs": [],
   "source": [
    "plt.plot((h[1][1:]+h[1][:-1])/2,h[0])"
   ]
  },
  {
   "cell_type": "code",
   "execution_count": null,
   "metadata": {},
   "outputs": [],
   "source": [
    "plt.plot((h[1][1:]+h[1][:-1])/2,h[0])\n",
    "plt.ylim(0,1100)"
   ]
  },
  {
   "cell_type": "code",
   "execution_count": null,
   "metadata": {},
   "outputs": [],
   "source": [
    "plt.bar((h[1][1:]+h[1][:-1])/2,h[0],width=0.07)"
   ]
  },
  {
   "cell_type": "code",
   "execution_count": null,
   "metadata": {},
   "outputs": [],
   "source": []
  }
 ],
 "metadata": {
  "kernelspec": {
   "display_name": "Python 3",
   "language": "python",
   "name": "python3"
  },
  "language_info": {
   "codemirror_mode": {
    "name": "ipython",
    "version": 3
   },
   "file_extension": ".py",
   "mimetype": "text/x-python",
   "name": "python",
   "nbconvert_exporter": "python",
   "pygments_lexer": "ipython3",
   "version": "3.8.10"
  }
 },
 "nbformat": 4,
 "nbformat_minor": 2
}
